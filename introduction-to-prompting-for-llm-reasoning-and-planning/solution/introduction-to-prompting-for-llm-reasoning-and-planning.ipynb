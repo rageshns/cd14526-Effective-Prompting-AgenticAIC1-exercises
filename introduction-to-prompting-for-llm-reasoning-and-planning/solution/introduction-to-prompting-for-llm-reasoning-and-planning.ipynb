{
 "cells": [
  {
   "cell_type": "markdown",
   "metadata": {},
   "source": [
    "# Pre-Lesson Exercise: Organize Your Workspace Space Kick-Off\n",
    "\n",
    "Before we get started on our course, let's take some time to set up and tidy our workspace. As an agentic twist on the matter, we will guide a Large Language Model (LLM) through a series of prompt refinements to create a practical plan to organize your personal work area.\n",
    "\n",
    "## Outline\n",
    "\n",
    "1. Start with a generic prompt\n",
    "2. Add a professional role\n",
    "3. Introduce concrete constraints\n",
    "4. Bonus: Apply what you've learned"
   ]
  },
  {
   "cell_type": "code",
   "execution_count": null,
   "metadata": {},
   "outputs": [],
   "source": [
    "# Import necessary libraries\n",
    "# No changes needed in this cell\n",
    "from openai import OpenAI\n",
    "from IPython.display import Markdown, display\n",
    "import os"
   ]
  },
  {
   "cell_type": "code",
   "execution_count": null,
   "metadata": {},
   "outputs": [],
   "source": [
    "# If using the Vocareum API endpoint\n",
    "# TODO: Fill in the missing parts marked with **********\n",
    "\n",
    "client = OpenAI(\n",
    "    base_url=\"https://openai.vocareum.com/v1\",\n",
    "    # Uncomment one of the following\n",
    "    # api_key=\"**********\",  # <--- TODO: Fill in your Vocareum API key here\n",
    "    # api_key=os.getenv(\n",
    "    #     \"OPENAI_API_KEY\"\n",
    "    # ),  # <-- Alternately, set as an environment variable\n",
    ")\n",
    "\n",
    "# If using OpenAI's API endpoint\n",
    "# client = OpenAI()\n"
   ]
  },
  {
   "cell_type": "code",
   "execution_count": null,
   "metadata": {},
   "outputs": [],
   "source": [
    "# No changes needed in this cell\n",
    "from enum import Enum\n",
    "\n",
    "\n",
    "class OpenAIModels(str, Enum):\n",
    "    GPT_4O_MINI = \"gpt-4o-mini\"\n",
    "    GPT_41_MINI = \"gpt-4.1-mini\"\n",
    "    GPT_41_NANO = \"gpt-4.1-nano\"\n",
    "\n",
    "\n",
    "MODEL = OpenAIModels.GPT_41_NANO\n",
    "\n",
    "\n",
    "def get_completion(system_prompt, user_prompt, model=MODEL):\n",
    "    \"\"\"\n",
    "    Function to get a completion from the OpenAI API.\n",
    "    Args:\n",
    "        system_prompt: The system prompt\n",
    "        user_prompt: The user prompt\n",
    "        model: The model to use (default is gpt-4.1-mini)\n",
    "    Returns:\n",
    "        The completion text\n",
    "    \"\"\"\n",
    "    messages = [\n",
    "        {\"role\": \"user\", \"content\": user_prompt},\n",
    "    ]\n",
    "    if system_prompt is not None:\n",
    "        messages = [\n",
    "            {\"role\": \"system\", \"content\": system_prompt},\n",
    "            *messages,\n",
    "        ]\n",
    "    try:\n",
    "        response = client.chat.completions.create(\n",
    "            model=model,\n",
    "            messages=messages,\n",
    "            temperature=0.7,\n",
    "        )\n",
    "        return response.choices[0].message.content\n",
    "    except Exception as e:\n",
    "        return f\"An error occurred: {e}\"\n",
    "\n",
    "\n",
    "def display_responses(*args):\n",
    "    \"\"\"Helper function to display responses as Markdown, horizontally.\"\"\"\n",
    "    markdown_string = \"<table><tr>\"\n",
    "    # Headers\n",
    "    for arg in args:\n",
    "        markdown_string += f\"<th>System Prompt:<br />{arg['system_prompt']}<br /><br />\"\n",
    "        markdown_string += f\"User Prompt:<br />{arg['user_prompt']}</th>\"\n",
    "    markdown_string += \"</tr>\"\n",
    "    # Rows\n",
    "    markdown_string += \"<tr>\"\n",
    "    for arg in args:\n",
    "        markdown_string += f\"<td>Response:<br />{arg['response']}</td>\"\n",
    "    markdown_string += \"</tr></table>\"\n",
    "    display(Markdown(markdown_string))"
   ]
  },
  {
   "cell_type": "markdown",
   "metadata": {},
   "source": [
    "## 1. Generic Prompt\n",
    "\n",
    "First, let's see what the model produces with a basic prompt."
   ]
  },
  {
   "cell_type": "code",
   "execution_count": null,
   "metadata": {},
   "outputs": [
    {
     "name": "stdout",
     "output_type": "stream",
     "text": [
      "Sending prompt to OpenAIModels.GPT_41_NANO model...\n",
      "Response received!\n",
      "\n"
     ]
    },
    {
     "data": {
      "text/markdown": [
       "<table><tr><th>System Prompt:<br />You are a helpful assistant.<br /><br />User Prompt:<br />Give me a simple plan to declutter and organize my workspace.</th></tr><tr><td>Response:<br />Certainly! Here's a simple step-by-step plan to declutter and organize your workspace:\n",
       "\n",
       "1. Set a Goal:\n",
       "   - Decide what you want to achieve (e.g., a tidy desk, more storage, better organization).\n",
       "2. Clear Everything:\n",
       "   - Remove all items from your desk and surrounding area.\n",
       "3. Sort Items:\n",
       "   - Create piles or categories: Keep, Toss, Donate/Sell.\n",
       "   - Be honest about what you really need.\n",
       "4. Clean the Space:\n",
       "   - Wipe down your desk, shelves, and any other surfaces.\n",
       "5. Organize Essentials:\n",
       "   - Keep only frequently used items within arm’s reach.\n",
       "   - Store less-used items in drawers or cabinets.\n",
       "6. Use Storage Solutions:\n",
       "   - Use trays, containers, or organizers for small items.\n",
       "   - Label drawers and containers for easy identification.\n",
       "7. Create a Filing System:\n",
       "   - Organize papers into folders or digital files.\n",
       "8. Maintain Daily:\n",
       "   - Spend 5-10 minutes at the end of each day tidying up.\n",
       "9. Regularly Review:\n",
       "   - Schedule weekly or monthly decluttering sessions to keep things organized.\n",
       "10. Personalize:\n",
       "    - Add a few personal touches like plants or photos to make your space inviting.\n",
       "\n",
       "Would you like a printable checklist or specific product recommendations?</td></tr></table>"
      ],
      "text/plain": [
       "<IPython.core.display.Markdown object>"
      ]
     },
     "metadata": {},
     "output_type": "display_data"
    }
   ],
   "source": [
    "# No changes needed in this cell\n",
    "plain_system_prompt = \"You are a helpful assistant.\"  # A generic system prompt\n",
    "user_prompt = \"Give me a simple plan to declutter and organize my workspace.\"\n",
    "\n",
    "print(f\"Sending prompt to {MODEL} model...\")\n",
    "baseline_response = get_completion(plain_system_prompt, user_prompt)\n",
    "print(\"Response received!\\n\")\n",
    "\n",
    "display_responses(\n",
    "    {\n",
    "        \"system_prompt\": plain_system_prompt,\n",
    "        \"user_prompt\": user_prompt,\n",
    "        \"response\": baseline_response,\n",
    "    }\n",
    ")"
   ]
  },
  {
   "cell_type": "markdown",
   "metadata": {},
   "source": [
    "## 2. Add a Professional Role\n",
    "\n",
    "Now, let's add a professional role to see how it affects the response.\n",
    "\n",
    "<div style=\"color: red\">NOTE: We will use the same user prompt for these examples. All you need to do is vary the system prompt, which is where one would normally define the role for an LLM.</div>"
   ]
  },
  {
   "cell_type": "code",
   "execution_count": null,
   "metadata": {},
   "outputs": [
    {
     "name": "stdout",
     "output_type": "stream",
     "text": [
      "Sending prompt with professional role...\n",
      "Response received!\n",
      "\n"
     ]
    },
    {
     "data": {
      "text/markdown": [
       "<table><tr><th>System Prompt:<br />You are a helpful assistant.<br /><br />User Prompt:<br />Give me a simple plan to declutter and organize my workspace.</th><th>System Prompt:<br />You are a certified professional organizer.<br /><br />User Prompt:<br />Give me a simple plan to declutter and organize my workspace.</th></tr><tr><td>Response:<br />Certainly! Here's a simple step-by-step plan to declutter and organize your workspace:\n",
       "\n",
       "1. Set a Goal:\n",
       "   - Decide what you want to achieve (e.g., a tidy desk, more storage, better organization).\n",
       "2. Clear Everything:\n",
       "   - Remove all items from your desk and surrounding area.\n",
       "3. Sort Items:\n",
       "   - Create piles or categories: Keep, Toss, Donate/Sell.\n",
       "   - Be honest about what you really need.\n",
       "4. Clean the Space:\n",
       "   - Wipe down your desk, shelves, and any other surfaces.\n",
       "5. Organize Essentials:\n",
       "   - Keep only frequently used items within arm’s reach.\n",
       "   - Store less-used items in drawers or cabinets.\n",
       "6. Use Storage Solutions:\n",
       "   - Use trays, containers, or organizers for small items.\n",
       "   - Label drawers and containers for easy identification.\n",
       "7. Create a Filing System:\n",
       "   - Organize papers into folders or digital files.\n",
       "8. Maintain Daily:\n",
       "   - Spend 5-10 minutes at the end of each day tidying up.\n",
       "9. Regularly Review:\n",
       "   - Schedule weekly or monthly decluttering sessions to keep things organized.\n",
       "10. Personalize:\n",
       "    - Add a few personal touches like plants or photos to make your space inviting.\n",
       "\n",
       "Would you like a printable checklist or specific product recommendations?</td><td>Response:<br />Certainly! Here's a simple, step-by-step plan to declutter and organize your workspace:\n",
       "\n",
       "**1. Set a Clear Goal**\n",
       "- Decide what you want to achieve (e.g., a tidy desk, more storage, better workflow).\n",
       "\n",
       "**2. Gather Supplies**\n",
       "- Boxes or bins for sorting\n",
       "- Trash bag or recycling bin\n",
       "- Cleaning supplies (cloth, disinfectant)\n",
       "\n",
       "**3. Clear Your Desk**\n",
       "- Remove everything from your workspace.\n",
       "- Clean the surfaces thoroughly.\n",
       "\n",
       "**4. Sort Items into Categories**\n",
       "- Keep: Items you use regularly\n",
       "- Store: Items you use occasionally\n",
       "- Donate/Sell: Items in good condition but no longer needed\n",
       "- Trash/Recycle: Broken, outdated, or unnecessary items\n",
       "\n",
       "**5. Organize Your Items**\n",
       "- Use organizers, trays, or drawers for small items.\n",
       "- Store frequently used items within easy reach.\n",
       "- Label storage containers for quick identification.\n",
       "\n",
       "**6. Create Zones**\n",
       "- Designate specific areas for different tasks (e.g., computer zone, filing zone, supply zone).\n",
       "\n",
       "**7. Implement a Maintenance System**\n",
       "- Spend 5-10 minutes daily tidying up.\n",
       "- Schedule regular decluttering sessions (weekly or monthly).\n",
       "\n",
       "**8. Personalize and Optimize**\n",
       "- Add personal touches that motivate you.\n",
       "- Adjust your setup for comfort and efficiency.\n",
       "\n",
       "Would you like suggestions for specific organizational tools or tips tailored to your workspace?</td></tr></table>"
      ],
      "text/plain": [
       "<IPython.core.display.Markdown object>"
      ]
     },
     "metadata": {},
     "output_type": "display_data"
    }
   ],
   "source": [
    "# TODO: Write a system prompt starting with \"You are...\" replacing the ***********\n",
    "role_system_prompt = \"You are a certified professional organizer.\"\n",
    "\n",
    "print(\"Sending prompt with professional role...\")\n",
    "role_response = get_completion(role_system_prompt, user_prompt)\n",
    "print(\"Response received!\\n\")\n",
    "\n",
    "# Show last two prompts and responses\n",
    "display_responses(\n",
    "    {\n",
    "        \"system_prompt\": plain_system_prompt,\n",
    "        \"user_prompt\": user_prompt,\n",
    "        \"response\": baseline_response,\n",
    "    },\n",
    "    {\n",
    "        \"system_prompt\": role_system_prompt,\n",
    "        \"user_prompt\": user_prompt,\n",
    "        \"response\": role_response,\n",
    "    },\n",
    ")"
   ]
  },
  {
   "cell_type": "markdown",
   "metadata": {},
   "source": [
    "## 3. Add Constraints\n",
    "\n",
    "Let's add specific constraints to see how the model prioritizes tasks. Let's add a time constraint, a budget constraint, and other constraints that are important for you."
   ]
  },
  {
   "cell_type": "code",
   "execution_count": null,
   "metadata": {
    "scrolled": true
   },
   "outputs": [
    {
     "name": "stdout",
     "output_type": "stream",
     "text": [
      "Sending prompt with constraints...\n",
      "Response received!\n",
      "\n"
     ]
    },
    {
     "data": {
      "text/markdown": [
       "<table><tr><th>System Prompt:<br />You are a certified professional organizer.<br /><br />User Prompt:<br />Give me a simple plan to declutter and organize my workspace.</th><th>System Prompt:<br />You are a certified professional organizer.. I have only 15 minutes, a $20 budget, and limited floor space; I want to keep sentimental items but maximize desk surface.<br /><br />User Prompt:<br />Give me a simple plan to declutter and organize my workspace.</th></tr><tr><td>Response:<br />Certainly! Here's a simple, step-by-step plan to declutter and organize your workspace:\n",
       "\n",
       "**1. Set a Clear Goal**\n",
       "- Decide what you want to achieve (e.g., a tidy desk, more storage, better workflow).\n",
       "\n",
       "**2. Gather Supplies**\n",
       "- Boxes or bins for sorting\n",
       "- Trash bag or recycling bin\n",
       "- Cleaning supplies (cloth, disinfectant)\n",
       "\n",
       "**3. Clear Your Desk**\n",
       "- Remove everything from your workspace.\n",
       "- Clean the surfaces thoroughly.\n",
       "\n",
       "**4. Sort Items into Categories**\n",
       "- Keep: Items you use regularly\n",
       "- Store: Items you use occasionally\n",
       "- Donate/Sell: Items in good condition but no longer needed\n",
       "- Trash/Recycle: Broken, outdated, or unnecessary items\n",
       "\n",
       "**5. Organize Your Items**\n",
       "- Use organizers, trays, or drawers for small items.\n",
       "- Store frequently used items within easy reach.\n",
       "- Label storage containers for quick identification.\n",
       "\n",
       "**6. Create Zones**\n",
       "- Designate specific areas for different tasks (e.g., computer zone, filing zone, supply zone).\n",
       "\n",
       "**7. Implement a Maintenance System**\n",
       "- Spend 5-10 minutes daily tidying up.\n",
       "- Schedule regular decluttering sessions (weekly or monthly).\n",
       "\n",
       "**8. Personalize and Optimize**\n",
       "- Add personal touches that motivate you.\n",
       "- Adjust your setup for comfort and efficiency.\n",
       "\n",
       "Would you like suggestions for specific organizational tools or tips tailored to your workspace?</td><td>Response:<br />Absolutely! Here's a quick, budget-friendly plan to declutter and organize your workspace in 15 minutes:\n",
       "\n",
       "**1. Gather Supplies (2 minutes):**  \n",
       "- Use a small box or bin (or a shoebox) for sentimental items you want to keep.  \n",
       "- Grab a trash bag or bin for discarding unnecessary items.  \n",
       "- Optional: a small container or tray for frequently used items.\n",
       "\n",
       "**2. Clear Your Desk (5 minutes):**  \n",
       "- Remove everything from your desk surface.  \n",
       "- Quickly sort items into three piles: Keep, Relocate, Discard.  \n",
       "- Be honest about what’s essential for daily use.\n",
       "\n",
       "**3. Focus on Sentimental Items (3 minutes):**  \n",
       "- Select only a few meaningful keepsakes to display or store.  \n",
       "- Use the small box/bin for sentimental items you want to keep but don’t need on your desk daily.  \n",
       "- Limit yourself to 3-5 items to avoid clutter.\n",
       "\n",
       "**4. Maximize Desk Surface (3 minutes):**  \n",
       "- Return only essential items to your desk: your computer, a notebook, and a pen.  \n",
       "- Store or relocate other items to drawers, shelves, or your sentimental box.\n",
       "\n",
       "**5. Final Touch & Maintain (2 minutes):**  \n",
       "- Wipe down your desk surface.  \n",
       "- Place your sentimental box in a dedicated spot—either on a shelf or in a drawer.  \n",
       "- Make a mental note to spend 5 minutes weekly to keep it tidy.\n",
       "\n",
       "**Budget Tip:**  \n",
       "Use what you already have at home—like a shoebox or small container—for organization. Keep it simple, and you’ll maximize your space without extra spending.\n",
       "\n",
       "Would you like tips on creating a dedicated spot for sentimental items or maintaining your workspace longer-term?</td></tr></table>"
      ],
      "text/plain": [
       "<IPython.core.display.Markdown object>"
      ]
     },
     "metadata": {},
     "output_type": "display_data"
    }
   ],
   "source": [
    "# TODO: Write a constraints system prompt replacing the ***********\n",
    "constraints_system_prompt = f\"\"\" {role_system_prompt}. I have only 15 minutes, a $20 budget, and limited floor space;\n",
    "I want to keep sentimental items but maximize desk surface.\"\"\"\n",
    "\n",
    "print(\"Sending prompt with constraints...\")\n",
    "constraints_response = get_completion(constraints_system_prompt, user_prompt)\n",
    "print(\"Response received!\\n\")\n",
    "\n",
    "# Show last two prompts and responses\n",
    "display_responses(\n",
    "    {\n",
    "        \"system_prompt\": role_system_prompt,\n",
    "        \"user_prompt\": user_prompt,\n",
    "        \"response\": role_response,\n",
    "    },\n",
    "    {\n",
    "        \"system_prompt\": constraints_system_prompt,\n",
    "        \"user_prompt\": user_prompt,\n",
    "        \"response\": constraints_response,\n",
    "    },\n",
    ")"
   ]
  },
  {
   "cell_type": "markdown",
   "metadata": {},
   "source": [
    "### Observations\n",
    "\n",
    "Note how the model:\n",
    "- Prioritizes tasks within the given timeframe\n",
    "- Works within the budget\n",
    "- Handles other constraints"
   ]
  },
  {
   "cell_type": "markdown",
   "metadata": {},
   "source": [
    "## 4. Request Step-by-Step Reasoning\n",
    "\n",
    "Now, let's ask the model to explain its reasoning and provide a final checklist."
   ]
  },
  {
   "cell_type": "code",
   "execution_count": null,
   "metadata": {},
   "outputs": [],
   "source": [
    "# TODO: Ask the LLM to explain its reasoning step by step, replacing the ***********\n",
    "reasoning_system_prompt = (\n",
    "    f\"{constraints_system_prompt}. *********** before presenting the final checklist.\"\n",
    ")\n",
    "\n",
    "print(\"Sending prompt with reasoning request...\")\n",
    "reasoning_response = get_completion(reasoning_system_prompt, user_prompt)\n",
    "print(\"Response received!\\n\")\n",
    "\n",
    "# Display the last two prompts and responses\n",
    "display_responses(\n",
    "    {\n",
    "        \"system_prompt\": constraints_system_prompt,\n",
    "        \"user_prompt\": user_prompt,\n",
    "        \"response\": constraints_response,\n",
    "    },\n",
    "    {\n",
    "        \"system_prompt\": reasoning_system_prompt,\n",
    "        \"user_prompt\": user_prompt,\n",
    "        \"response\": reasoning_response,\n",
    "    },\n",
    ")"
   ]
  },
  {
   "cell_type": "markdown",
   "metadata": {},
   "source": [
    "### Observations\n",
    "\n",
    "Examine the chain of thought for:\n",
    "- Clarity of reasoning\n",
    "- Logical progression, or lack thereof\n",
    "- How constraints may have affected decision-making\n",
    "- Additional insights provided by the reasoning"
   ]
  },
  {
   "cell_type": "markdown",
   "metadata": {},
   "source": [
    "## 5. Reflection & Transfer\n",
    "\n",
    "Let's reflect on what we've learned from this exercise."
   ]
  },
  {
   "cell_type": "markdown",
   "metadata": {},
   "source": [
    "### Which prompt tweak changed the output most dramatically and why?\n",
    "\n",
    "Use this cell to jot down your thoughts: Both the constraints and reasoning prompts changed the output significantly in this case. Both of them had a plan at the beginning. The reasoning one expanded this section and actually kept the main response relatively short, and it also added a checklist."
   ]
  },
  {
   "cell_type": "markdown",
   "metadata": {},
   "source": [
    "### List two other situations where the same prompt-refinement pattern could help\n",
    "\n",
    "`TODO: Replace the ***********`\n",
    "1. `***********`\n",
    "2. `***********`"
   ]
  },
  {
   "cell_type": "markdown",
   "metadata": {},
   "source": [
    "## Bonus: Apply what you've learned\n",
    "\n",
    "Try crafting a prompt for one of your own ideas or even a different organization task (e.g., digital file cleanup, closet overhaul)!"
   ]
  },
  {
   "cell_type": "code",
   "execution_count": 8,
   "metadata": {},
   "outputs": [
    {
     "name": "stdout",
     "output_type": "stream",
     "text": [
      "Sending custom prompt...\n",
      "Response received!\n",
      "\n"
     ]
    },
    {
     "data": {
      "text/markdown": [
       "<table><tr><th>System Prompt:<br />\n",
       "You are a best-selling writer.\n",
       "\n",
       "In general:\n",
       "- You always explain your overall reasoning before providing the answer to a user's question.\n",
       "- Always conclude with a list of action items when asked for advice.\n",
       "- Do not end with a final question or sentence after this list of action items.\n",
       "\n",
       "\n",
       "<br /><br />User Prompt:<br />\n",
       "Please generate a list of 10 ideas for an article about the benefits of meditation\n",
       "that millions of people will read and benefit from. The article is for a technical audience. \n",
       "</th></tr><tr><td>Response:<br />To generate a compelling list of article ideas about the benefits of meditation tailored for a technical audience, I need to consider what aspects resonate with individuals who are often analytical, detail-oriented, and interested in scientific validation. The key is to frame meditation not just as a spiritual or relaxation practice but as a scientifically supported method that influences brain function, cognitive performance, and even technological applications.\n",
       "\n",
       "Here's my reasoning for the ideas:\n",
       "\n",
       "1. **Neuroscientific Insights into Meditation: How Brain Plasticity Is Enhanced**  \n",
       "   - Focus on recent neuroimaging studies showing structural changes in the brain due to meditation, appealing to a scientifically inclined audience.\n",
       "\n",
       "2. **Quantifying the Cognitive Benefits of Meditation: Evidence from Machine Learning and Data Analytics**  \n",
       "   - Explore how data-driven approaches measure improvements in attention, memory, and decision-making.\n",
       "\n",
       "3. **Meditation and Signal Processing: Improving Focus and Reducing Noise in Neural Data**  \n",
       "   - Draw parallels between meditation's effect on neural noise and techniques used in signal processing, appealing to tech-savvy readers.\n",
       "\n",
       "4. **The Role of Meditation in Stress Reduction: Implications for Workplace Productivity and Health**  \n",
       "   - Present data on stress biomarkers and productivity metrics, relevant for professionals interested in health tech or organizational efficiency.\n",
       "\n",
       "5. **Biometric Monitoring of Meditation: How Wearables Are Quantifying Inner States**  \n",
       "   - Discuss the integration of wearable tech and AI to monitor physiological changes during meditation.\n",
       "\n",
       "6. **Cognitive Enhancement Through Meditation: Potential Applications in AI Development and Human-Computer Interaction**  \n",
       "   - Delve into how meditation-trained cognitive functions could inform AI algorithms and HCI design.\n",
       "\n",
       "7. **Neurofeedback and Meditation: Augmenting Brain Training with Technology**  \n",
       "   - Explain how neurofeedback devices combined with meditation can accelerate mental training.\n",
       "\n",
       "8. **Meditation as a Tool for Enhancing Focus in High-Performance Computing Environments**  \n",
       "   - Investigate how meditation practices can improve concentration for developers, data scientists, and engineers.\n",
       "\n",
       "9. **The Intersection of Meditation and Bioinformatics: Unlocking the Genetic and Epigenetic Effects**  \n",
       "   - Explore emerging research on meditation’s influence on gene expression and health data.\n",
       "\n",
       "10. **Designing Meditation Apps with Evidence-Based Techniques: A Guide for Developers and Innovators**  \n",
       "    - Offer insights into creating effective meditation tools grounded in scientific research, appealing to entrepreneurs and developers.\n",
       "\n",
       "### Action Items:\n",
       "- Focus the articles on scientific evidence, data analysis, and technological applications.\n",
       "- Include recent studies, data visualizations, or case studies to enhance credibility.\n",
       "- Use technical language appropriate for a professional audience.\n",
       "- Consider integrating examples of current technologies or research tools related to meditation.\n",
       "\n",
       "This approach will ensure the article ideas are engaging, informative, and valuable for millions of readers interested in the intersection of meditation and technology.</td></tr></table>"
      ],
      "text/plain": [
       "<IPython.core.display.Markdown object>"
      ]
     },
     "metadata": {},
     "output_type": "display_data"
    }
   ],
   "source": [
    "# Create your own prompts here!\n",
    "\n",
    "# TODO: Replace the ***********\n",
    "custom_system_prompt = \"\"\"\n",
    "You are a best-selling writer.\n",
    "\n",
    "In general:\n",
    "- You always explain your overall reasoning before providing the answer to a user's question.\n",
    "- Always conclude with a list of action items when asked for advice.\n",
    "- Do not end with a final question or sentence after this list of action items.\n",
    "\n",
    "\n",
    "\"\"\"\n",
    "user_prompt = \"\"\"\n",
    "Please generate a list of 10 ideas for an article about the benefits of meditation\n",
    "that millions of people will read and benefit from. The article is for a technical audience. \n",
    "\"\"\"\n",
    "\n",
    "# Uncomment the lines below to run your custom prompt\n",
    "print(\"Sending custom prompt...\")\n",
    "custom_response = get_completion(custom_system_prompt, user_prompt)\n",
    "print(\"Response received!\\n\")\n",
    "\n",
    "display_responses(\n",
    "    {\n",
    "        \"system_prompt\": custom_system_prompt,\n",
    "        \"user_prompt\": user_prompt,\n",
    "        \"response\": custom_response,\n",
    "    }\n",
    ")"
   ]
  },
  {
   "cell_type": "markdown",
   "metadata": {},
   "source": [
    "## Summary\n",
    "\n",
    "In this exercise, we explored how different prompt refinements affect the output of an LLM:\n",
    "\n",
    "1. **Generic Prompt**: We started with a simple request for a workspace organization plan.\n",
    "2. **Professional Role**: We added a specific role to enhance expertise and authority.\n",
    "3. **Concrete Constraints**: We introduced specific limitations that required prioritization.\n",
    "4. **Step-by-Step Reasoning**: We requested explicit reasoning to understand the model's thought process.\n",
    "\n",
    "These techniques demonstrate how prompt engineering can significantly improve the usefulness and relevance of AI-generated content for specific needs.\n",
    "\n",
    "Excellent Work! 🚀"
   ]
  }
 ],
 "metadata": {
  "kernelspec": {
   "display_name": "Python 3 (ipykernel)",
   "language": "python",
   "name": "python3"
  },
  "language_info": {
   "codemirror_mode": {
    "name": "ipython",
    "version": 3
   },
   "file_extension": ".py",
   "mimetype": "text/x-python",
   "name": "python",
   "nbconvert_exporter": "python",
   "pygments_lexer": "ipython3",
   "version": "3.13.3"
  }
 },
 "nbformat": 4,
 "nbformat_minor": 4
}
